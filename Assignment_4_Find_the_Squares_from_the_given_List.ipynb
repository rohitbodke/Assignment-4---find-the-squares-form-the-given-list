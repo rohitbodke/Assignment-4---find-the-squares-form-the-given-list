{
  "nbformat": 4,
  "nbformat_minor": 0,
  "metadata": {
    "colab": {
      "provenance": [],
      "authorship_tag": "ABX9TyPRRTRx0NwTJAMnK1ZEmpww",
      "include_colab_link": true
    },
    "kernelspec": {
      "name": "python3",
      "display_name": "Python 3"
    },
    "language_info": {
      "name": "python"
    }
  },
  "cells": [
    {
      "cell_type": "markdown",
      "metadata": {
        "id": "view-in-github",
        "colab_type": "text"
      },
      "source": [
        "<a href=\"https://colab.research.google.com/github/rohitbodke/Assignment-4---find-the-squares-form-the-given-list/blob/main/Assignment_4_Find_the_Squares_from_the_given_List.ipynb\" target=\"_parent\"><img src=\"https://colab.research.google.com/assets/colab-badge.svg\" alt=\"Open In Colab\"/></a>"
      ]
    },
    {
      "cell_type": "code",
      "execution_count": null,
      "metadata": {
        "colab": {
          "base_uri": "https://localhost:8080/"
        },
        "id": "ED8Fk89OYGBe",
        "outputId": "65d6db56-e1fe-462a-de85-02f79dea67cf"
      },
      "outputs": [
        {
          "output_type": "stream",
          "name": "stdout",
          "text": [
            "Square the elements of the list: [16, 25, 4, 81]\n"
          ]
        }
      ],
      "source": [
        "def square_of_number(num):\n",
        "    return num**2\n",
        "\n",
        "numbers=[4,5,2,9]\n",
        "squares=list(map(square_of_number,numbers))\n",
        "print('Square the elements of the list:',squares)"
      ]
    }
  ]
}